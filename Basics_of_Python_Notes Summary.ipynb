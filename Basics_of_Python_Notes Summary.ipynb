{
  "cells": [
    {
      "cell_type": "markdown",
      "metadata": {
        "id": "MY-W01KzTVQz"
      },
      "source": [
        "# Data Types in Python"
      ]
    },
    {
      "cell_type": "markdown",
      "source": [
        "we can use Anaconda python IDE \n",
        "ANaconda.\n",
        "\n",
        "DS : analyse the data extract pattren fromn it\n",
        "\n",
        "extract useful information and give to decesion maker to take decession.\n",
        "\n",
        "amzon want to grow the business\n",
        "which age customer\n",
        "which part of region\n",
        "can give offers.\n",
        "\n",
        "\n",
        "launch mobile into market.\n",
        "camera features low price good quality.\n",
        "\n",
        "extract pattren or information to get the meaning ful information.\n",
        "we convert the raw data into information.\n",
        "\n"
      ],
      "metadata": {
        "id": "NkHdDASlWOav"
      }
    },
    {
      "cell_type": "code",
      "source": [],
      "metadata": {
        "id": "OwAUxVQ7WN8l"
      },
      "execution_count": null,
      "outputs": []
    },
    {
      "cell_type": "code",
      "execution_count": 1,
      "metadata": {
        "id": "5hx_PGtBTVQ4"
      },
      "outputs": [],
      "source": [
        "my_name = 'Ram'"
      ]
    },
    {
      "cell_type": "code",
      "execution_count": 2,
      "metadata": {
        "id": "wp67UQqlTVQ5",
        "outputId": "821c497b-e8c1-4c7d-e35c-8b20557d8665",
        "colab": {
          "base_uri": "https://localhost:8080/"
        }
      },
      "outputs": [
        {
          "output_type": "stream",
          "name": "stdout",
          "text": [
            "Ram\n"
          ]
        }
      ],
      "source": [
        "print(my_name)"
      ]
    },
    {
      "cell_type": "code",
      "execution_count": 3,
      "metadata": {
        "id": "VsluQxetTVQ6"
      },
      "outputs": [],
      "source": [
        "marks = 100"
      ]
    },
    {
      "cell_type": "code",
      "execution_count": 4,
      "metadata": {
        "id": "MbvCiFxdTVQ6",
        "outputId": "d2ef9530-aae5-49e3-e860-491f5f865d93",
        "colab": {
          "base_uri": "https://localhost:8080/"
        }
      },
      "outputs": [
        {
          "output_type": "stream",
          "name": "stdout",
          "text": [
            "100\n"
          ]
        }
      ],
      "source": [
        "print(marks)"
      ]
    },
    {
      "cell_type": "code",
      "execution_count": 5,
      "metadata": {
        "id": "xnlMsVapTVQ7"
      },
      "outputs": [],
      "source": [
        "test_marks = 100.23"
      ]
    },
    {
      "cell_type": "code",
      "execution_count": 6,
      "metadata": {
        "id": "q2As7SKoTVQ7",
        "outputId": "37fcb6ad-4091-4ad6-dd7c-a285c07cc868",
        "colab": {
          "base_uri": "https://localhost:8080/"
        }
      },
      "outputs": [
        {
          "output_type": "stream",
          "name": "stdout",
          "text": [
            "my val is 100.23\n"
          ]
        }
      ],
      "source": [
        "print('my val is',test_marks)"
      ]
    },
    {
      "cell_type": "code",
      "execution_count": 7,
      "metadata": {
        "id": "EAKXyd-QTVQ8",
        "outputId": "4bc00821-8901-4ff2-d78e-508e7c89d697",
        "colab": {
          "base_uri": "https://localhost:8080/"
        }
      },
      "outputs": [
        {
          "output_type": "execute_result",
          "data": {
            "text/plain": [
              "str"
            ]
          },
          "metadata": {},
          "execution_count": 7
        }
      ],
      "source": [
        "type(my_name) # cheking data type"
      ]
    },
    {
      "cell_type": "code",
      "execution_count": 8,
      "metadata": {
        "id": "eU6ZMTMuTVQ8",
        "outputId": "5c36fc43-0d6e-4074-ea74-583f3b83090d",
        "colab": {
          "base_uri": "https://localhost:8080/"
        }
      },
      "outputs": [
        {
          "output_type": "execute_result",
          "data": {
            "text/plain": [
              "int"
            ]
          },
          "metadata": {},
          "execution_count": 8
        }
      ],
      "source": [
        "type(marks)"
      ]
    },
    {
      "cell_type": "code",
      "execution_count": 9,
      "metadata": {
        "id": "azzvuQSRTVQ-",
        "outputId": "b587f9f8-7584-432f-c9f0-c33cc97837fd",
        "colab": {
          "base_uri": "https://localhost:8080/"
        }
      },
      "outputs": [
        {
          "output_type": "execute_result",
          "data": {
            "text/plain": [
              "float"
            ]
          },
          "metadata": {},
          "execution_count": 9
        }
      ],
      "source": [
        "type(test_marks)"
      ]
    },
    {
      "cell_type": "code",
      "execution_count": 10,
      "metadata": {
        "id": "Gtzyzjb7TVQ_"
      },
      "outputs": [],
      "source": [
        "learning = True # boolean valye ts letter is should be caps"
      ]
    },
    {
      "cell_type": "code",
      "execution_count": 11,
      "metadata": {
        "id": "zmFQ2wT4TVQ_",
        "outputId": "4ae72ae0-cdd1-4497-edd2-2c614afc0eb2",
        "colab": {
          "base_uri": "https://localhost:8080/"
        }
      },
      "outputs": [
        {
          "output_type": "stream",
          "name": "stdout",
          "text": [
            "True\n"
          ]
        }
      ],
      "source": [
        "print(learning)"
      ]
    },
    {
      "cell_type": "code",
      "execution_count": 12,
      "metadata": {
        "id": "muy1hQ8HTVRB",
        "outputId": "b541caf9-ad15-4fb0-b764-0a655836d778",
        "colab": {
          "base_uri": "https://localhost:8080/"
        }
      },
      "outputs": [
        {
          "output_type": "execute_result",
          "data": {
            "text/plain": [
              "bool"
            ]
          },
          "metadata": {},
          "execution_count": 12
        }
      ],
      "source": [
        "type(learning)"
      ]
    },
    {
      "cell_type": "code",
      "execution_count": 13,
      "metadata": {
        "id": "YoMLtR1-TVRC"
      },
      "outputs": [],
      "source": [
        "sleeping = False"
      ]
    },
    {
      "cell_type": "code",
      "execution_count": 14,
      "metadata": {
        "id": "27_5IwgHTVRD",
        "outputId": "8abf344c-09de-4bba-f0f3-bd13ccaa709f",
        "colab": {
          "base_uri": "https://localhost:8080/"
        }
      },
      "outputs": [
        {
          "output_type": "stream",
          "name": "stdout",
          "text": [
            "False\n"
          ]
        }
      ],
      "source": [
        "print(sleeping)"
      ]
    },
    {
      "cell_type": "code",
      "execution_count": 15,
      "metadata": {
        "id": "azWRDxWvTVRD",
        "outputId": "1a03e9aa-ab56-4f2e-de23-5476d9878b21",
        "colab": {
          "base_uri": "https://localhost:8080/"
        }
      },
      "outputs": [
        {
          "output_type": "execute_result",
          "data": {
            "text/plain": [
              "bool"
            ]
          },
          "metadata": {},
          "execution_count": 15
        }
      ],
      "source": [
        "type(sleeping)"
      ]
    },
    {
      "cell_type": "markdown",
      "metadata": {
        "id": "Alg6RlH5TVRD"
      },
      "source": [
        "# Operators in Python"
      ]
    },
    {
      "cell_type": "code",
      "execution_count": 82,
      "metadata": {
        "id": "TDS4Pp2_TVRE",
        "outputId": "14e92334-f8f1-487a-f056-3e7d32e0e870",
        "colab": {
          "base_uri": "https://localhost:8080/"
        }
      },
      "outputs": [
        {
          "output_type": "stream",
          "name": "stdout",
          "text": [
            "add 23\n",
            "sub 17\n",
            "mul 60\n",
            "div 6.666666666666667\n"
          ]
        }
      ],
      "source": [
        "a = 20\n",
        "b = 3\n",
        "\n",
        "print('add',a+b)\n",
        "print('sub',a-b)\n",
        "print('mul',a*b)\n",
        "print('div',a/b) # here we are printing the mSG\n",
        "\n",
        "# if any value is float it will give same thing\n"
      ]
    },
    {
      "cell_type": "code",
      "execution_count": 83,
      "metadata": {
        "id": "kvR7i_PbTVRF",
        "outputId": "69b82595-9fc6-4beb-b4da-595beb7fd729",
        "colab": {
          "base_uri": "https://localhost:8080/"
        }
      },
      "outputs": [
        {
          "output_type": "stream",
          "name": "stdout",
          "text": [
            "6\n"
          ]
        }
      ],
      "source": [
        "print(a//b)"
      ]
    },
    {
      "cell_type": "code",
      "execution_count": 84,
      "metadata": {
        "id": "oKFESj9RTVRF",
        "outputId": "ae021cf1-0815-499a-a7fb-ccb14ee93dd5",
        "colab": {
          "base_uri": "https://localhost:8080/"
        }
      },
      "outputs": [
        {
          "output_type": "stream",
          "name": "stdout",
          "text": [
            "2\n"
          ]
        }
      ],
      "source": [
        "print(a%b) # to get teh reminder"
      ]
    },
    {
      "cell_type": "code",
      "source": [
        "a = 20.556\n",
        "b = 3\n",
        "\n",
        "print('add',a+b)\n",
        "print('sub',a-b)\n",
        "print('mul',a*b)\n",
        "print('div',a/b) # here we are printing the mSG"
      ],
      "metadata": {
        "colab": {
          "base_uri": "https://localhost:8080/"
        },
        "id": "by5Za4KE9Fbw",
        "outputId": "562acb51-deb1-4ee8-cd18-82643083455b"
      },
      "execution_count": 86,
      "outputs": [
        {
          "output_type": "stream",
          "name": "stdout",
          "text": [
            "add 23.556\n",
            "sub 17.556\n",
            "mul 61.668000000000006\n",
            "div 6.852\n"
          ]
        }
      ]
    },
    {
      "cell_type": "code",
      "source": [
        "a=2\n",
        "b=2"
      ],
      "metadata": {
        "id": "nouVP4vs9NS2"
      },
      "execution_count": 87,
      "outputs": []
    },
    {
      "cell_type": "code",
      "execution_count": 88,
      "metadata": {
        "id": "vubASUUHTVRF",
        "outputId": "3a0822af-bc01-414b-d3a5-9ffccd31aaae",
        "colab": {
          "base_uri": "https://localhost:8080/"
        }
      },
      "outputs": [
        {
          "output_type": "stream",
          "name": "stdout",
          "text": [
            "4\n"
          ]
        }
      ],
      "source": [
        "\n",
        "print(a**b)"
      ]
    },
    {
      "cell_type": "markdown",
      "metadata": {
        "id": "AfKMCX66TVRG"
      },
      "source": [
        "# Decision making"
      ]
    },
    {
      "cell_type": "code",
      "execution_count": 91,
      "metadata": {
        "id": "AXUq5g0jTVRG",
        "outputId": "81a16b2b-7780-4e4c-afae-fd7ee2d3ff59",
        "colab": {
          "base_uri": "https://localhost:8080/"
        }
      },
      "outputs": [
        {
          "output_type": "stream",
          "name": "stdout",
          "text": [
            "a is greater\n"
          ]
        }
      ],
      "source": [
        "a = 10\n",
        "b = 50\n",
        "\n",
        "if a<b:    # : is mandatory\n",
        "        print('a is greater')\n",
        "else:\n",
        "    print('b is greater')\n",
        "\n",
        "# indation is impofrtant. we can use single or double tab.\n",
        "\n",
        "    "
      ]
    },
    {
      "cell_type": "code",
      "source": [
        "a = 100\n",
        "b = 50\n",
        "\n",
        "if a<b:    # : is mandatory\n",
        "        print('a is greater')\n",
        "else:\n",
        "    print('b is greater')\n",
        "\n",
        "# indation is impofrtant.\n",
        "    "
      ],
      "metadata": {
        "colab": {
          "base_uri": "https://localhost:8080/"
        },
        "id": "2toK-hBp95fX",
        "outputId": "ae7113d0-e639-43a6-ef8b-e7b63e3d6e53"
      },
      "execution_count": 92,
      "outputs": [
        {
          "output_type": "stream",
          "name": "stdout",
          "text": [
            "b is greater\n"
          ]
        }
      ]
    },
    {
      "cell_type": "markdown",
      "metadata": {
        "id": "YhN1zfQBTVRG"
      },
      "source": [
        "# Loops "
      ]
    },
    {
      "cell_type": "code",
      "execution_count": 21,
      "metadata": {
        "id": "NyDmgS9ETVRH",
        "outputId": "db47119b-d5a4-42c4-c612-043907bab024",
        "colab": {
          "base_uri": "https://localhost:8080/"
        }
      },
      "outputs": [
        {
          "output_type": "stream",
          "name": "stdout",
          "text": [
            "0\n",
            "1\n",
            "2\n",
            "3\n",
            "4\n",
            "5\n",
            "6\n",
            "7\n",
            "8\n",
            "9\n",
            "10\n"
          ]
        }
      ],
      "source": [
        "for x in range(11):\n",
        "    print(x)\n",
        "\n",
        "    # range is function.\n",
        "    "
      ]
    },
    {
      "cell_type": "code",
      "execution_count": 22,
      "metadata": {
        "id": "vZfCxsMKTVRH",
        "outputId": "26a5f887-ccf9-471d-d785-2b8f631b8d05",
        "colab": {
          "base_uri": "https://localhost:8080/"
        }
      },
      "outputs": [
        {
          "output_type": "stream",
          "name": "stdout",
          "text": [
            "0\n",
            "2\n",
            "4\n",
            "6\n",
            "8\n",
            "10\n",
            "12\n",
            "14\n",
            "16\n",
            "18\n",
            "20\n"
          ]
        }
      ],
      "source": [
        "for x in range(21):\n",
        "    if x%2==0:\n",
        "        print(x) # to print the only even value."
      ]
    },
    {
      "cell_type": "code",
      "execution_count": 95,
      "metadata": {
        "id": "zGMjvu3ETVRH",
        "outputId": "97e7ecef-c229-424d-dbf5-ecf3c622e50d",
        "colab": {
          "base_uri": "https://localhost:8080/"
        }
      },
      "outputs": [
        {
          "output_type": "stream",
          "name": "stdout",
          "text": [
            "1\n",
            "3\n",
            "5\n",
            "7\n",
            "9\n",
            "11\n",
            "13\n",
            "15\n",
            "17\n",
            "19\n"
          ]
        }
      ],
      "source": [
        "for x in range(1,20,2):\n",
        "    print(x)      # we can also give start number."
      ]
    },
    {
      "cell_type": "markdown",
      "metadata": {
        "id": "9Y1OBZFNTVRH"
      },
      "source": [
        "# Collections in Python"
      ]
    },
    {
      "cell_type": "markdown",
      "metadata": {
        "id": "uBtu_j_cTVRI"
      },
      "source": [
        "## List"
      ]
    },
    {
      "cell_type": "markdown",
      "metadata": {
        "id": "YKwo3M4aTVRI"
      },
      "source": [
        "It is a collection type in Python which carries heterogenous variables"
      ]
    },
    {
      "cell_type": "code",
      "execution_count": 97,
      "metadata": {
        "id": "JV_cpx52TVRI"
      },
      "outputs": [],
      "source": [
        "my_list = [-1.1, 'Steve', my_name,learning]"
      ]
    },
    {
      "cell_type": "code",
      "execution_count": 98,
      "metadata": {
        "id": "C3EbMN0tTVRI",
        "outputId": "884d8d14-b5a9-4740-fdcb-2a6310f77258",
        "colab": {
          "base_uri": "https://localhost:8080/"
        }
      },
      "outputs": [
        {
          "output_type": "stream",
          "name": "stdout",
          "text": [
            "[-1.1, 'Steve', 'Ram', True]\n"
          ]
        }
      ],
      "source": [
        "print(my_list)"
      ]
    },
    {
      "cell_type": "code",
      "execution_count": 99,
      "metadata": {
        "id": "pFFFqPwjTVRI",
        "outputId": "8aa0a0f3-96ca-43fd-b691-d4fadfa01089",
        "colab": {
          "base_uri": "https://localhost:8080/"
        }
      },
      "outputs": [
        {
          "output_type": "stream",
          "name": "stdout",
          "text": [
            "[1, 2, 3, 4, 5]\n"
          ]
        }
      ],
      "source": [
        "L1 = [1,2,3,4,5] # homogeneous element\n",
        "print(L1)"
      ]
    },
    {
      "cell_type": "code",
      "execution_count": 100,
      "metadata": {
        "id": "rfGCZLiITVRI",
        "outputId": "30dd3209-7360-4b22-fe24-aabf46afd86b",
        "colab": {
          "base_uri": "https://localhost:8080/"
        }
      },
      "outputs": [
        {
          "output_type": "execute_result",
          "data": {
            "text/plain": [
              "list"
            ]
          },
          "metadata": {},
          "execution_count": 100
        }
      ],
      "source": [
        "type(my_list)"
      ]
    },
    {
      "cell_type": "code",
      "execution_count": 101,
      "metadata": {
        "id": "jxZj5rH1TVRJ",
        "outputId": "47551efe-f9f8-4011-f5d5-c644f1a8ab4a",
        "colab": {
          "base_uri": "https://localhost:8080/"
        }
      },
      "outputs": [
        {
          "output_type": "stream",
          "name": "stdout",
          "text": [
            "Ram\n"
          ]
        }
      ],
      "source": [
        "print(my_list[2]) # accessing value in list."
      ]
    },
    {
      "cell_type": "code",
      "execution_count": 102,
      "metadata": {
        "id": "l-idHA1JTVRJ",
        "outputId": "a43b8e07-9629-4297-c360-40d84ecde451",
        "colab": {
          "base_uri": "https://localhost:8080/"
        }
      },
      "outputs": [
        {
          "output_type": "stream",
          "name": "stdout",
          "text": [
            "Ram\n"
          ]
        }
      ],
      "source": [
        "print(my_list[-2])"
      ]
    },
    {
      "cell_type": "code",
      "execution_count": 30,
      "metadata": {
        "id": "qWJjTGCwTVRJ",
        "outputId": "6620c025-7292-42f6-c7ed-94d6f006098a",
        "colab": {
          "base_uri": "https://localhost:8080/",
          "height": 35
        }
      },
      "outputs": [
        {
          "output_type": "execute_result",
          "data": {
            "text/plain": [
              "'Steve'"
            ],
            "application/vnd.google.colaboratory.intrinsic+json": {
              "type": "string"
            }
          },
          "metadata": {},
          "execution_count": 30
        }
      ],
      "source": [
        "my_list[1]"
      ]
    },
    {
      "cell_type": "code",
      "execution_count": 126,
      "metadata": {
        "id": "Zgc-HFpxTVRJ",
        "outputId": "8e5f56a2-3eb1-479a-bebd-631af7acdcd0",
        "colab": {
          "base_uri": "https://localhost:8080/",
          "height": 35
        }
      },
      "outputs": [
        {
          "output_type": "execute_result",
          "data": {
            "text/plain": [
              "'Ram'"
            ],
            "application/vnd.google.colaboratory.intrinsic+json": {
              "type": "string"
            }
          },
          "metadata": {},
          "execution_count": 126
        }
      ],
      "source": [
        "my_list[2]"
      ]
    },
    {
      "cell_type": "code",
      "execution_count": 127,
      "metadata": {
        "id": "NXVCciq5TVRJ",
        "outputId": "14029aac-b35d-4ae9-a1c8-8ad61a42894a",
        "colab": {
          "base_uri": "https://localhost:8080/"
        }
      },
      "outputs": [
        {
          "output_type": "execute_result",
          "data": {
            "text/plain": [
              "True"
            ]
          },
          "metadata": {},
          "execution_count": 127
        }
      ],
      "source": [
        "my_list[3] # positive index."
      ]
    },
    {
      "cell_type": "code",
      "execution_count": 128,
      "metadata": {
        "id": "dDsJc4MITVRK",
        "outputId": "5a7e8444-addc-44b8-928c-adeec7a746ef",
        "colab": {
          "base_uri": "https://localhost:8080/"
        }
      },
      "outputs": [
        {
          "output_type": "execute_result",
          "data": {
            "text/plain": [
              "True"
            ]
          },
          "metadata": {},
          "execution_count": 128
        }
      ],
      "source": [
        "my_list[-1] # negitive index"
      ]
    },
    {
      "cell_type": "code",
      "execution_count": 129,
      "metadata": {
        "id": "EfAyYl11TVRK"
      },
      "outputs": [],
      "source": [
        "my_list.append('Arjun') # adding values in list."
      ]
    },
    {
      "cell_type": "code",
      "execution_count": 130,
      "metadata": {
        "id": "el78QysLTVRK",
        "outputId": "2db75853-18a5-4a65-bea6-991845a65695",
        "colab": {
          "base_uri": "https://localhost:8080/"
        }
      },
      "outputs": [
        {
          "output_type": "execute_result",
          "data": {
            "text/plain": [
              "[-1.1, 'Steve', 'Ram', True, 'Arjun']"
            ]
          },
          "metadata": {},
          "execution_count": 130
        }
      ],
      "source": [
        "my_list"
      ]
    },
    {
      "cell_type": "code",
      "execution_count": 131,
      "metadata": {
        "id": "a6c8lTxFTVRK"
      },
      "outputs": [],
      "source": [
        "my_list.remove(-1.1) # removing values."
      ]
    },
    {
      "cell_type": "code",
      "execution_count": 132,
      "metadata": {
        "id": "WXWdYcAyTVRK",
        "outputId": "ddd83508-32a4-445e-bfb1-f352c357f431",
        "colab": {
          "base_uri": "https://localhost:8080/"
        }
      },
      "outputs": [
        {
          "output_type": "execute_result",
          "data": {
            "text/plain": [
              "['Steve', 'Ram', True, 'Arjun']"
            ]
          },
          "metadata": {},
          "execution_count": 132
        }
      ],
      "source": [
        "my_list"
      ]
    },
    {
      "cell_type": "code",
      "execution_count": 133,
      "metadata": {
        "id": "ApQBz-uNTVRL",
        "outputId": "844a52fd-c51c-4641-a660-9b5178a5be09",
        "colab": {
          "base_uri": "https://localhost:8080/",
          "height": 35
        }
      },
      "outputs": [
        {
          "output_type": "execute_result",
          "data": {
            "text/plain": [
              "'Ram'"
            ],
            "application/vnd.google.colaboratory.intrinsic+json": {
              "type": "string"
            }
          },
          "metadata": {},
          "execution_count": 133
        }
      ],
      "source": [
        "my_list.pop(1)  # by index we are removing."
      ]
    },
    {
      "cell_type": "code",
      "execution_count": 134,
      "metadata": {
        "id": "02X72lHXTVRL",
        "outputId": "03d7aa90-97b8-4d9f-c4b1-11c0b181502e",
        "colab": {
          "base_uri": "https://localhost:8080/"
        }
      },
      "outputs": [
        {
          "output_type": "execute_result",
          "data": {
            "text/plain": [
              "['Steve', True, 'Arjun']"
            ]
          },
          "metadata": {},
          "execution_count": 134
        }
      ],
      "source": [
        "my_list"
      ]
    },
    {
      "cell_type": "code",
      "execution_count": 135,
      "metadata": {
        "id": "2HoUTn1uTVRL"
      },
      "outputs": [],
      "source": [
        "my_list2 = my_list.copy() # copying values.\n"
      ]
    },
    {
      "cell_type": "code",
      "execution_count": 136,
      "metadata": {
        "id": "x-Q45bIiTVRL",
        "outputId": "649b112a-feb4-492e-8cb1-9aa73949a442",
        "colab": {
          "base_uri": "https://localhost:8080/"
        }
      },
      "outputs": [
        {
          "output_type": "execute_result",
          "data": {
            "text/plain": [
              "['Steve', True, 'Arjun']"
            ]
          },
          "metadata": {},
          "execution_count": 136
        }
      ],
      "source": [
        "my_list2"
      ]
    },
    {
      "cell_type": "code",
      "execution_count": 137,
      "metadata": {
        "id": "XLrW4H1VTVRL"
      },
      "outputs": [],
      "source": [
        "my_list2.clear() # removing all the values at same time.\n"
      ]
    },
    {
      "cell_type": "code",
      "execution_count": 138,
      "metadata": {
        "id": "7idoTkb5TVRL",
        "outputId": "400c96fd-8190-44b8-9d59-17666c97c3be",
        "colab": {
          "base_uri": "https://localhost:8080/"
        }
      },
      "outputs": [
        {
          "output_type": "execute_result",
          "data": {
            "text/plain": [
              "[]"
            ]
          },
          "metadata": {},
          "execution_count": 138
        }
      ],
      "source": [
        "my_list2"
      ]
    },
    {
      "cell_type": "code",
      "execution_count": 139,
      "metadata": {
        "id": "hIKtgASwTVRM"
      },
      "outputs": [],
      "source": [
        "x = [10,20,30,40]\n",
        "y = [50,60,70,80]"
      ]
    },
    {
      "cell_type": "code",
      "execution_count": 140,
      "metadata": {
        "id": "B3jb-wudTVRM"
      },
      "outputs": [],
      "source": [
        "x.append(100) # add element"
      ]
    },
    {
      "cell_type": "code",
      "execution_count": 141,
      "metadata": {
        "id": "o7h_HnENTVRM",
        "outputId": "0dfd7daf-30d1-4e27-d9fe-96f2e883c820",
        "colab": {
          "base_uri": "https://localhost:8080/"
        }
      },
      "outputs": [
        {
          "output_type": "execute_result",
          "data": {
            "text/plain": [
              "[10, 20, 30, 40, 100]"
            ]
          },
          "metadata": {},
          "execution_count": 141
        }
      ],
      "source": [
        "x"
      ]
    },
    {
      "cell_type": "code",
      "execution_count": 142,
      "metadata": {
        "id": "TEDiVGn5TVRM",
        "outputId": "bf2d53e8-0ec1-4576-92e5-c1a825578be1",
        "colab": {
          "base_uri": "https://localhost:8080/"
        }
      },
      "outputs": [
        {
          "output_type": "execute_result",
          "data": {
            "text/plain": [
              "list"
            ]
          },
          "metadata": {},
          "execution_count": 142
        }
      ],
      "source": [
        "type(x) # type is used to get the data types"
      ]
    },
    {
      "cell_type": "code",
      "execution_count": 143,
      "metadata": {
        "id": "LkW2Dk_1TVRN",
        "outputId": "ef600302-e9ff-4d5d-de47-1c6b487bcb04",
        "colab": {
          "base_uri": "https://localhost:8080/"
        }
      },
      "outputs": [
        {
          "output_type": "stream",
          "name": "stdout",
          "text": [
            "[10, 20, 30, 40, 100]\n"
          ]
        }
      ],
      "source": [
        "print(x)"
      ]
    },
    {
      "cell_type": "code",
      "execution_count": 144,
      "metadata": {
        "id": "TvW_seRVTVRN"
      },
      "outputs": [],
      "source": [
        "x.extend(y) # another metod of addingthe other list."
      ]
    },
    {
      "cell_type": "code",
      "execution_count": 145,
      "metadata": {
        "id": "1L4jkfMdTVRO",
        "outputId": "ff53727e-9cbe-4d30-a4ce-3e2a6ea17945",
        "colab": {
          "base_uri": "https://localhost:8080/"
        }
      },
      "outputs": [
        {
          "output_type": "stream",
          "name": "stdout",
          "text": [
            "[10, 20, 30, 40, 100, 50, 60, 70, 80]\n"
          ]
        }
      ],
      "source": [
        "print(x)"
      ]
    },
    {
      "cell_type": "code",
      "execution_count": 146,
      "metadata": {
        "id": "Pkp4EOmXTVRO",
        "outputId": "b3eb1d8b-9a77-47c4-f0b6-d60315e1c498",
        "colab": {
          "base_uri": "https://localhost:8080/"
        }
      },
      "outputs": [
        {
          "output_type": "stream",
          "name": "stdout",
          "text": [
            "[50, 60, 70, 80]\n"
          ]
        }
      ],
      "source": [
        "print(y)"
      ]
    },
    {
      "cell_type": "code",
      "execution_count": 147,
      "metadata": {
        "id": "YTAgea6rTVRO"
      },
      "outputs": [],
      "source": [
        "x.append(y)"
      ]
    },
    {
      "cell_type": "code",
      "execution_count": 148,
      "metadata": {
        "id": "HbJa1URrTVRP",
        "outputId": "a3c188a0-dd4e-4fb2-f121-af409820cc1a",
        "colab": {
          "base_uri": "https://localhost:8080/"
        }
      },
      "outputs": [
        {
          "output_type": "stream",
          "name": "stdout",
          "text": [
            "[10, 20, 30, 40, 100, 50, 60, 70, 80, [50, 60, 70, 80]]\n"
          ]
        }
      ],
      "source": [
        "print(x)"
      ]
    },
    {
      "cell_type": "code",
      "execution_count": 149,
      "metadata": {
        "id": "EC347pPfTVRP",
        "outputId": "1d3590c5-f59e-4d6e-838c-1cd388824098",
        "colab": {
          "base_uri": "https://localhost:8080/"
        }
      },
      "outputs": [
        {
          "output_type": "execute_result",
          "data": {
            "text/plain": [
              "[50, 60, 70, 80]"
            ]
          },
          "metadata": {},
          "execution_count": 149
        }
      ],
      "source": [
        "x.pop(-1)"
      ]
    },
    {
      "cell_type": "code",
      "execution_count": 150,
      "metadata": {
        "id": "Z3AtuwFcTVRP",
        "outputId": "1ad61883-7f37-4384-d65b-bebc407e9b17",
        "colab": {
          "base_uri": "https://localhost:8080/"
        }
      },
      "outputs": [
        {
          "output_type": "stream",
          "name": "stdout",
          "text": [
            "[10, 20, 30, 40, 100, 50, 60, 70, 80]\n"
          ]
        }
      ],
      "source": [
        "print(x)"
      ]
    },
    {
      "cell_type": "code",
      "execution_count": 151,
      "metadata": {
        "id": "iXtoC3f9TVRP"
      },
      "outputs": [],
      "source": [
        "x.sort() # ascendin orede"
      ]
    },
    {
      "cell_type": "code",
      "execution_count": 57,
      "metadata": {
        "id": "kpbukZBPTVRQ",
        "outputId": "3e1fe530-90c0-42f8-ffb3-89f1c206daa7",
        "colab": {
          "base_uri": "https://localhost:8080/"
        }
      },
      "outputs": [
        {
          "output_type": "stream",
          "name": "stdout",
          "text": [
            "[10, 20, 30, 40, 50, 60, 70, 80, 100]\n"
          ]
        }
      ],
      "source": [
        "print(x)"
      ]
    },
    {
      "cell_type": "code",
      "execution_count": 58,
      "metadata": {
        "id": "aUdijfOsTVRS"
      },
      "outputs": [],
      "source": [
        "x.sort(reverse=True) # descendin oreder"
      ]
    },
    {
      "cell_type": "code",
      "execution_count": 59,
      "metadata": {
        "id": "-9W-hgobTVRT",
        "outputId": "d5e0dc67-06ce-4231-f575-a54ba161eeaf",
        "colab": {
          "base_uri": "https://localhost:8080/"
        }
      },
      "outputs": [
        {
          "output_type": "stream",
          "name": "stdout",
          "text": [
            "[100, 80, 70, 60, 50, 40, 30, 20, 10]\n"
          ]
        }
      ],
      "source": [
        "print(x)"
      ]
    },
    {
      "cell_type": "code",
      "execution_count": 152,
      "metadata": {
        "id": "k5mgLk7_TVRT"
      },
      "outputs": [],
      "source": [
        "var2 = ['apple','strawberry','banana']"
      ]
    },
    {
      "cell_type": "code",
      "execution_count": 153,
      "metadata": {
        "id": "Dd7Dk7PnTVRV"
      },
      "outputs": [],
      "source": [
        "var2.sort()"
      ]
    },
    {
      "cell_type": "code",
      "execution_count": 154,
      "metadata": {
        "id": "ny6V-mSxTVRW",
        "outputId": "a6d85a87-45c2-4d9d-99b5-62ae7a383b40",
        "colab": {
          "base_uri": "https://localhost:8080/"
        }
      },
      "outputs": [
        {
          "output_type": "stream",
          "name": "stdout",
          "text": [
            "['apple', 'banana', 'strawberry']\n"
          ]
        }
      ],
      "source": [
        "print(var2)"
      ]
    },
    {
      "cell_type": "code",
      "execution_count": 155,
      "metadata": {
        "id": "FJBb9G9FTVRW",
        "outputId": "35749805-acd5-4d00-cb46-23ec97da4e73",
        "colab": {
          "base_uri": "https://localhost:8080/"
        }
      },
      "outputs": [
        {
          "output_type": "execute_result",
          "data": {
            "text/plain": [
              "3"
            ]
          },
          "metadata": {},
          "execution_count": 155
        }
      ],
      "source": [
        "len(var2) # no fo element"
      ]
    },
    {
      "cell_type": "code",
      "execution_count": 64,
      "metadata": {
        "id": "RPYcunx7TVRW"
      },
      "outputs": [],
      "source": [
        "var5 = [2,3,5,7,8]"
      ]
    },
    {
      "cell_type": "code",
      "execution_count": 65,
      "metadata": {
        "id": "WIYK_COrTVRW",
        "outputId": "9411f207-26ef-43bc-826b-3b9c8bd88bf6",
        "colab": {
          "base_uri": "https://localhost:8080/"
        }
      },
      "outputs": [
        {
          "output_type": "execute_result",
          "data": {
            "text/plain": [
              "[2, 3, 5, 7, 8, 2, 3, 5, 7, 8]"
            ]
          },
          "metadata": {},
          "execution_count": 65
        }
      ],
      "source": [
        "var5 * 2 # it wont multiply element it will print same list n times."
      ]
    },
    {
      "cell_type": "code",
      "execution_count": 156,
      "metadata": {
        "id": "TVwSodXtTVRW",
        "outputId": "e1e3839f-d413-49b6-9abd-e12810cd9974",
        "colab": {
          "base_uri": "https://localhost:8080/"
        }
      },
      "outputs": [
        {
          "output_type": "stream",
          "name": "stdout",
          "text": [
            "[2, 3, 5, 7, 8]\n",
            "4\n",
            "6\n",
            "10\n",
            "14\n",
            "16\n"
          ]
        }
      ],
      "source": [
        "print(var5) # fro multiplying element in list with for loop is one method.\n",
        "\n",
        "for x in var5:\n",
        "    var = x * 2\n",
        "    print(var)\n",
        "    #print(\"\")\n"
      ]
    },
    {
      "cell_type": "code",
      "execution_count": 67,
      "metadata": {
        "id": "e9DoOIZmTVRW",
        "outputId": "e18397a7-3d4c-4c1b-d275-ddce407fb6f0",
        "colab": {
          "base_uri": "https://localhost:8080/"
        }
      },
      "outputs": [
        {
          "output_type": "stream",
          "name": "stdout",
          "text": [
            "(1, 2, 3, 4, 5)\n",
            "<class 'tuple'>\n",
            "5\n",
            "1\n"
          ]
        }
      ],
      "source": [
        "# Tuple\n",
        "a1 = (1,2,3,4,5)\n",
        "print(a1)\n",
        "print(type(a1))\n",
        "print(len(a1)) # number of element it will give\n",
        "print(a1[0])\n",
        "#a1[0]=5\n",
        "\n",
        "# immutable we can add.\n",
        "# short cut to comment is CTRL + /"
      ]
    },
    {
      "cell_type": "code",
      "execution_count": 68,
      "metadata": {
        "id": "kBmukasaTVRW",
        "outputId": "cf837b92-2f39-4f85-f120-3264715787f1",
        "colab": {
          "base_uri": "https://localhost:8080/"
        }
      },
      "outputs": [
        {
          "output_type": "stream",
          "name": "stdout",
          "text": [
            "{112, 5, 21, 73, 43}\n",
            "<class 'set'>\n"
          ]
        }
      ],
      "source": [
        "# Set\n",
        "b = {21,112,73,43,5}\n",
        "print(b)\n",
        "print(type(b))\n",
        "\n",
        "# set is unoreder."
      ]
    },
    {
      "cell_type": "code",
      "execution_count": 69,
      "metadata": {
        "id": "UE-bHX_TTVRX",
        "outputId": "c928b1a7-5a82-4cc3-a8df-02a44f1506a0",
        "colab": {
          "base_uri": "https://localhost:8080/"
        }
      },
      "outputs": [
        {
          "output_type": "stream",
          "name": "stdout",
          "text": [
            "{'sub1': 10, 'sub2': 20, 'sub3': 30}\n",
            "<class 'dict'>\n"
          ]
        }
      ],
      "source": [
        "# Dictionary\n",
        "d = {'sub1':10, 'sub2':20, 'sub3':30}\n",
        "print(d)\n",
        "print(type(d))"
      ]
    },
    {
      "cell_type": "markdown",
      "source": [
        "# list and dictionary is most used"
      ],
      "metadata": {
        "id": "45h4PYo7C39v"
      }
    },
    {
      "cell_type": "code",
      "execution_count": 70,
      "metadata": {
        "id": "h1GzbQ6-TVRX",
        "outputId": "cbcb2d78-2ccb-41a0-8ca6-363703824444",
        "colab": {
          "base_uri": "https://localhost:8080/"
        }
      },
      "outputs": [
        {
          "output_type": "stream",
          "name": "stdout",
          "text": [
            "<class 'float'>\n"
          ]
        }
      ],
      "source": [
        "a1= 5\n",
        "a2 =5.5\n",
        "a3 = a1 + a2\n",
        "print(type(a3))"
      ]
    },
    {
      "cell_type": "markdown",
      "metadata": {
        "id": "dYC1jResTVRX"
      },
      "source": [
        "## User Defined Functions in Python"
      ]
    },
    {
      "cell_type": "code",
      "source": [
        "def add(x,y):\n",
        "    result = x + y\n",
        "    print(result)\n",
        "    # def fubnction."
      ],
      "metadata": {
        "id": "XUKZXsYRDMNh"
      },
      "execution_count": 158,
      "outputs": []
    },
    {
      "cell_type": "code",
      "execution_count": 159,
      "metadata": {
        "id": "iG66MSi1TVRX"
      },
      "outputs": [],
      "source": [
        "def add(x,y):\n",
        "    result = x + y\n",
        "    #print(result)\n",
        "    return(result)"
      ]
    },
    {
      "cell_type": "code",
      "execution_count": 160,
      "metadata": {
        "id": "3YlvYXjDTVRX",
        "outputId": "8eebadb0-461a-4b01-ba2e-bf18c50e1003",
        "colab": {
          "base_uri": "https://localhost:8080/"
        }
      },
      "outputs": [
        {
          "output_type": "stream",
          "name": "stdout",
          "text": [
            "300\n"
          ]
        }
      ],
      "source": [
        "#add(100,200)\n",
        "print(add(100,200))"
      ]
    },
    {
      "cell_type": "code",
      "execution_count": 161,
      "metadata": {
        "id": "q_4VLpTOTVRX",
        "outputId": "472a6745-ff59-49a6-db19-d8923092339f",
        "colab": {
          "base_uri": "https://localhost:8080/"
        }
      },
      "outputs": [
        {
          "output_type": "execute_result",
          "data": {
            "text/plain": [
              "7.1"
            ]
          },
          "metadata": {},
          "execution_count": 161
        }
      ],
      "source": [
        "add(2.5,4.6)"
      ]
    },
    {
      "cell_type": "code",
      "execution_count": 162,
      "metadata": {
        "id": "6p-EQq30TVRX",
        "outputId": "8458d142-09e8-476f-fcc0-2ed3e7eeb449",
        "colab": {
          "base_uri": "https://localhost:8080/",
          "height": 35
        }
      },
      "outputs": [
        {
          "output_type": "execute_result",
          "data": {
            "text/plain": [
              "'SteveWaugh'"
            ],
            "application/vnd.google.colaboratory.intrinsic+json": {
              "type": "string"
            }
          },
          "metadata": {},
          "execution_count": 162
        }
      ],
      "source": [
        "add('Steve','Waugh')"
      ]
    },
    {
      "cell_type": "code",
      "execution_count": 163,
      "metadata": {
        "id": "etHBFnfcTVRY",
        "outputId": "fac2c10f-e715-4180-8b9f-785c880faa62",
        "colab": {
          "base_uri": "https://localhost:8080/"
        }
      },
      "outputs": [
        {
          "output_type": "execute_result",
          "data": {
            "text/plain": [
              "3"
            ]
          },
          "metadata": {},
          "execution_count": 163
        }
      ],
      "source": [
        "add(7,-4)"
      ]
    },
    {
      "cell_type": "markdown",
      "source": [],
      "metadata": {
        "id": "SE64zg5BH5K1"
      }
    },
    {
      "cell_type": "markdown",
      "metadata": {
        "id": "1Hkoy7s7TVRY"
      },
      "source": [
        "# Lambda Function"
      ]
    },
    {
      "cell_type": "code",
      "execution_count": 76,
      "metadata": {
        "id": "l0vGsoTsTVRY",
        "outputId": "30eae867-8c98-4391-f985-76a91bb9d241",
        "colab": {
          "base_uri": "https://localhost:8080/"
        }
      },
      "outputs": [
        {
          "output_type": "stream",
          "name": "stdout",
          "text": [
            "30\n"
          ]
        }
      ],
      "source": [
        "# lambda Arg:Exp\n",
        "x = lambda a,b,c:a+b+c\n",
        "print(x(5,10,15))\n",
        "# used to write function in single line."
      ]
    },
    {
      "cell_type": "code",
      "execution_count": 77,
      "metadata": {
        "id": "kC5g4h8gTVRY"
      },
      "outputs": [],
      "source": [
        "# lambda Arg:Exp\n",
        "y = lambda a,b:a-b\n"
      ]
    },
    {
      "cell_type": "code",
      "execution_count": 78,
      "metadata": {
        "id": "lXz7854vTVRY",
        "outputId": "eb5e844d-ecfb-462c-c420-0ff593144e2d",
        "colab": {
          "base_uri": "https://localhost:8080/"
        }
      },
      "outputs": [
        {
          "output_type": "stream",
          "name": "stdout",
          "text": [
            "-5\n"
          ]
        }
      ],
      "source": [
        "print(y(5,10))"
      ]
    },
    {
      "cell_type": "code",
      "source": [],
      "metadata": {
        "id": "EEbZ395rD5Tk"
      },
      "execution_count": null,
      "outputs": []
    },
    {
      "cell_type": "code",
      "source": [],
      "metadata": {
        "id": "vTGQWDyBD5P_"
      },
      "execution_count": null,
      "outputs": []
    },
    {
      "cell_type": "code",
      "source": [],
      "metadata": {
        "id": "ndu0ZgqAD5DB"
      },
      "execution_count": null,
      "outputs": []
    },
    {
      "cell_type": "markdown",
      "source": [],
      "metadata": {
        "id": "QYS6x6WND4s_"
      }
    }
  ],
  "metadata": {
    "kernelspec": {
      "display_name": "Python 3",
      "language": "python",
      "name": "python3"
    },
    "language_info": {
      "codemirror_mode": {
        "name": "ipython",
        "version": 3
      },
      "file_extension": ".py",
      "mimetype": "text/x-python",
      "name": "python",
      "nbconvert_exporter": "python",
      "pygments_lexer": "ipython3",
      "version": "3.7.6"
    },
    "colab": {
      "provenance": []
    }
  },
  "nbformat": 4,
  "nbformat_minor": 0
}